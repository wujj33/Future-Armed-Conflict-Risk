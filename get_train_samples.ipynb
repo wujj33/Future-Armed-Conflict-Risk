{
 "cells": [
  {
   "cell_type": "code",
   "execution_count": 5,
   "id": "df447f9c-0e4e-4460-b730-c2b8ea9aeb27",
   "metadata": {},
   "outputs": [],
   "source": [
    "import pandas as pd\n",
    "import numpy as np\n",
    "from itertools import product\n",
    "import math\n",
    "import warnings\n",
    "\n",
    "warnings.filterwarnings('ignore')"
   ]
  },
  {
   "cell_type": "code",
   "execution_count": 6,
   "id": "4d325a13-8538-474b-8cbd-a07cf6a15776",
   "metadata": {},
   "outputs": [],
   "source": [
    "GCMs = ['CanESM5', 'GFDL-ESM4', 'MPI-ESM1-2-LR', 'BCC-CSM2-MR', 'IPSL-CM6A-LR']\n",
    "SSPs = ['ssp126', 'ssp245', 'ssp370', 'ssp585']\n",
    "years = np.arange(2000, 2021)"
   ]
  },
  {
   "cell_type": "code",
   "execution_count": 7,
   "id": "01e4eac5-6fd2-416e-ad90-2b393cf4916a",
   "metadata": {},
   "outputs": [],
   "source": [
    "choices = list(product(SSPs, GCMs, years))\n",
    "num = len(choices)"
   ]
  },
  {
   "cell_type": "code",
   "execution_count": 14,
   "id": "14a41110-8b05-45c0-9880-4d86baf00378",
   "metadata": {},
   "outputs": [],
   "source": [
    "for i in range(num):\n",
    "    ssp, gcm, year = choices[i]\n",
    "    file_final = './all_data/hist_%s.csv' % year\n",
    "    all_covars = pd.read_csv(file_final)\n",
    "    index = all_covars.isna().any(axis=1)\n",
    "    all_covars = all_covars[~index].reset_index(drop=True)\n",
    "    index = all_covars['target_23'] != 0\n",
    "    target_num = len(all_covars[index])\n",
    "    index = all_covars['target_23'] == 0\n",
    "    samples_0 = all_covars[index]\n",
    "    index = all_covars['target'] == 1\n",
    "    samples_1 = all_covars[index]\n",
    "    df = pd.DataFrame(all_covars['region'].value_counts(normalize=True))\n",
    "    df['proportion'] = df['proportion'] * target_num\n",
    "    df['proportion'] = df['proportion'].apply(math.ceil)\n",
    "    for k in range(20):  # for 20 models\n",
    "        df_list = [samples_1]\n",
    "        for region in df.index:\n",
    "            index = samples_0['region'] == region\n",
    "            num = df.loc[region, 'proportion']\n",
    "            df_list.append(samples_0[index].sample(num, replace=False))\n",
    "        all_samples = pd.concat(df_list).reset_index(drop=True)\n",
    "        all_samples.to_csv('./train_samples/%s_%02d.csv' % (year, k), index=0)\n",
    "    break"
   ]
  },
  {
   "cell_type": "code",
   "execution_count": null,
   "id": "052a44d8-7da8-4e8f-b536-fd987377c57a",
   "metadata": {},
   "outputs": [],
   "source": []
  }
 ],
 "metadata": {
  "kernelspec": {
   "display_name": "Python [conda env:root] *",
   "language": "python",
   "name": "conda-root-py"
  },
  "language_info": {
   "codemirror_mode": {
    "name": "ipython",
    "version": 3
   },
   "file_extension": ".py",
   "mimetype": "text/x-python",
   "name": "python",
   "nbconvert_exporter": "python",
   "pygments_lexer": "ipython3",
   "version": "3.10.16"
  }
 },
 "nbformat": 4,
 "nbformat_minor": 5
}
