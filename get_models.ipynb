{
 "cells": [
  {
   "cell_type": "code",
   "execution_count": 1,
   "id": "499f24d7-03af-4fb4-bd91-dd44f4472e79",
   "metadata": {},
   "outputs": [],
   "source": [
    "import pandas as pd\n",
    "from tqdm import trange, tqdm\n",
    "import numpy as np\n",
    "from itertools import product"
   ]
  },
  {
   "cell_type": "code",
   "execution_count": 3,
   "id": "20eb2dd2-6579-4da6-af1f-8be56636b717",
   "metadata": {},
   "outputs": [],
   "source": [
    "from sklearn.ensemble import RandomForestClassifier\n",
    "from sklearn.model_selection import StratifiedKFold\n",
    "from sklearn.metrics import classification_report"
   ]
  },
  {
   "cell_type": "code",
   "execution_count": 4,
   "id": "c2ae0772-d8ee-4517-81b2-c797178ffa9d",
   "metadata": {},
   "outputs": [
    {
     "data": {
      "text/plain": [
       "46"
      ]
     },
     "execution_count": 4,
     "metadata": {},
     "output_type": "execute_result"
    }
   ],
   "source": [
    "cols = [\n",
    "    'xcoord', 'ycoord', 'DALYs', 'min_dist', 'num', 'best', 'duration',\n",
    "    'min_dist_type1', 'num_type1', 'best_type1', 'duration_type1', 'mean_ps',\n",
    "    'unemployment', 'cisi', 'pop', 'gdp', 'gpc', 'hdi', 'cropland', 'forest',\n",
    "    'urban', 'migration', 'dem_mean', 'dem_std', 'mou_cover', 'dist2coast',\n",
    "    'ttime_mean', 'water_gc', 'ttime_sd', 'landarea', 'bdist2', 'bdist3',\n",
    "    'capdist', 'excluded', 'road_dens', 'gdmhz', 'mining', 'infant_mortality',\n",
    "    'hfp', 'ndvi', 'min_dist_geopko', 'num_geopko', 'SPI', 'hist_pre', 'STI',\n",
    "    'hist_tmp'\n",
    "]\n",
    "len(cols)"
   ]
  },
  {
   "cell_type": "code",
   "execution_count": 5,
   "id": "7e8d23a6-fb98-4752-a1f9-fe16f25e8585",
   "metadata": {},
   "outputs": [
    {
     "data": {
      "text/plain": [
       "array([2000, 2001, 2002, 2003, 2004, 2005, 2006, 2007, 2008, 2009, 2010,\n",
       "       2011, 2012, 2013, 2014, 2015, 2016, 2017, 2018, 2019, 2020, 2021,\n",
       "       2022, 2023])"
      ]
     },
     "execution_count": 5,
     "metadata": {},
     "output_type": "execute_result"
    },
    {
     "data": {
      "text/plain": [
       "24"
      ]
     },
     "execution_count": 5,
     "metadata": {},
     "output_type": "execute_result"
    }
   ],
   "source": [
    "years = np.arange(2000, 2024)\n",
    "years\n",
    "len(years)"
   ]
  },
  {
   "cell_type": "code",
   "execution_count": 6,
   "id": "ed8b5330-ef00-46a4-a0ed-3b53863fc8af",
   "metadata": {},
   "outputs": [],
   "source": [
    "def get_model(X_train, y_train):\n",
    "    model = RandomForestClassifier()\n",
    "    model.fit(X_train, y_train)\n",
    "    return model"
   ]
  },
  {
   "cell_type": "code",
   "execution_count": null,
   "id": "7d16fe8c-0e14-4a10-8601-4b818d214cbb",
   "metadata": {},
   "outputs": [],
   "source": [
    "model_list = []\n",
    "df_features = pd.DataFrame(cols, columns=['feature'])\n",
    "for k in trange(20):\n",
    "    df_list = []\n",
    "    for year in years:\n",
    "        file = './train_samples/%s_%02d.csv' % (year, k)\n",
    "        df = pd.read_csv(file)\n",
    "        df_list.append(df)\n",
    "    final_samples = pd.concat(df_list).reset_index(drop=True)\n",
    "    X = final_samples[cols].values\n",
    "    y = final_samples['target_23'].values\n",
    "    model = get_model(X, y)\n",
    "    df_features[k] = model.feature_importances_\n",
    "    model_list.append(model)\n",
    "data = {'models': model_list}\n",
    "file = './models/models_final.pkl'\n",
    "with open(file, 'wb') as f:\n",
    "    pickle.dump(data, f)\n",
    "    # break"
   ]
  }
 ],
 "metadata": {
  "kernelspec": {
   "display_name": "Python [conda env:root] *",
   "language": "python",
   "name": "conda-root-py"
  },
  "language_info": {
   "codemirror_mode": {
    "name": "ipython",
    "version": 3
   },
   "file_extension": ".py",
   "mimetype": "text/x-python",
   "name": "python",
   "nbconvert_exporter": "python",
   "pygments_lexer": "ipython3",
   "version": "3.10.16"
  }
 },
 "nbformat": 4,
 "nbformat_minor": 5
}
